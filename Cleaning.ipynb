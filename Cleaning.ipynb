{
 "cells": [
  {
   "cell_type": "markdown",
   "id": "6b44e22c-8c49-48d9-8707-2c30a7d70626",
   "metadata": {},
   "source": [
    "## Cleaning"
   ]
  },
  {
   "cell_type": "markdown",
   "id": "fd2a4086-ef26-4c7f-a928-47fad48338aa",
   "metadata": {},
   "source": [
    "### Import Libraries"
   ]
  },
  {
   "cell_type": "code",
   "execution_count": 1,
   "id": "3cf92e8c-b7b5-483b-863f-a54b25ee3acc",
   "metadata": {},
   "outputs": [],
   "source": [
    "import pandas as pd\n",
    "import seaborn as sns\n",
    "\n",
    "import warnings\n",
    "warnings.filterwarnings('ignore')"
   ]
  },
  {
   "cell_type": "markdown",
   "id": "450587bf-ee1b-4eef-b91e-75e3b0d2ef95",
   "metadata": {},
   "source": [
    "### Read Data"
   ]
  },
  {
   "cell_type": "code",
   "execution_count": 2,
   "id": "0ed5051d-a677-4236-8895-c367a794e73e",
   "metadata": {},
   "outputs": [
    {
     "data": {
      "text/html": [
       "<div>\n",
       "<style scoped>\n",
       "    .dataframe tbody tr th:only-of-type {\n",
       "        vertical-align: middle;\n",
       "    }\n",
       "\n",
       "    .dataframe tbody tr th {\n",
       "        vertical-align: top;\n",
       "    }\n",
       "\n",
       "    .dataframe thead th {\n",
       "        text-align: right;\n",
       "    }\n",
       "</style>\n",
       "<table border=\"1\" class=\"dataframe\">\n",
       "  <thead>\n",
       "    <tr style=\"text-align: right;\">\n",
       "      <th></th>\n",
       "      <th>Sr. No.</th>\n",
       "      <th>Location</th>\n",
       "      <th>Sub-Area</th>\n",
       "      <th>Propert Type</th>\n",
       "      <th>Property Area in Sq. Ft.</th>\n",
       "      <th>Price in lakhs</th>\n",
       "      <th>Price in Millions</th>\n",
       "      <th>Company Name</th>\n",
       "      <th>TownShip Name/ Society Name</th>\n",
       "      <th>Total TownShip Area in Acres</th>\n",
       "      <th>ClubHouse</th>\n",
       "      <th>School / University in Township</th>\n",
       "      <th>Hospital in TownShip</th>\n",
       "      <th>Mall in TownShip</th>\n",
       "      <th>Park / Jogging track</th>\n",
       "      <th>Swimming Pool</th>\n",
       "      <th>Gym</th>\n",
       "    </tr>\n",
       "  </thead>\n",
       "  <tbody>\n",
       "    <tr>\n",
       "      <th>0</th>\n",
       "      <td>1</td>\n",
       "      <td>Pune, Maharashtra, India</td>\n",
       "      <td>Bavdhan</td>\n",
       "      <td>1 BHK</td>\n",
       "      <td>492</td>\n",
       "      <td>39</td>\n",
       "      <td>3.900</td>\n",
       "      <td>Shapoorji Paloonji</td>\n",
       "      <td>Vanaha</td>\n",
       "      <td>1000.0</td>\n",
       "      <td>Yes</td>\n",
       "      <td>Yes</td>\n",
       "      <td>Yes</td>\n",
       "      <td>Yes</td>\n",
       "      <td>Yes</td>\n",
       "      <td>Yes</td>\n",
       "      <td>Yes</td>\n",
       "    </tr>\n",
       "    <tr>\n",
       "      <th>1</th>\n",
       "      <td>2</td>\n",
       "      <td>Pune, Maharashtra, India</td>\n",
       "      <td>Bavdhan</td>\n",
       "      <td>2 BHK</td>\n",
       "      <td>774</td>\n",
       "      <td>65</td>\n",
       "      <td>6.500</td>\n",
       "      <td>Shapoorji Paloonji</td>\n",
       "      <td>Vanaha</td>\n",
       "      <td>1000.0</td>\n",
       "      <td>Yes</td>\n",
       "      <td>Yes</td>\n",
       "      <td>Yes</td>\n",
       "      <td>Yes</td>\n",
       "      <td>Yes</td>\n",
       "      <td>Yes</td>\n",
       "      <td>Yes</td>\n",
       "    </tr>\n",
       "    <tr>\n",
       "      <th>2</th>\n",
       "      <td>3</td>\n",
       "      <td>Pune, Maharashtra, India</td>\n",
       "      <td>Bavdhan</td>\n",
       "      <td>3 BHK</td>\n",
       "      <td>889</td>\n",
       "      <td>74</td>\n",
       "      <td>7.400</td>\n",
       "      <td>Shapoorji Paloonji</td>\n",
       "      <td>Vanaha</td>\n",
       "      <td>1000.0</td>\n",
       "      <td>Yes</td>\n",
       "      <td>Yes</td>\n",
       "      <td>Yes</td>\n",
       "      <td>Yes</td>\n",
       "      <td>Yes</td>\n",
       "      <td>Yes</td>\n",
       "      <td>Yes</td>\n",
       "    </tr>\n",
       "    <tr>\n",
       "      <th>3</th>\n",
       "      <td>4</td>\n",
       "      <td>Pune, Maharashtra, India</td>\n",
       "      <td>Bavdhan</td>\n",
       "      <td>3 BHK Grand</td>\n",
       "      <td>1018</td>\n",
       "      <td>89</td>\n",
       "      <td>8.900</td>\n",
       "      <td>Shapoorji Paloonji</td>\n",
       "      <td>Vanaha</td>\n",
       "      <td>1000.0</td>\n",
       "      <td>Yes</td>\n",
       "      <td>Yes</td>\n",
       "      <td>Yes</td>\n",
       "      <td>Yes</td>\n",
       "      <td>Yes</td>\n",
       "      <td>Yes</td>\n",
       "      <td>Yes</td>\n",
       "    </tr>\n",
       "    <tr>\n",
       "      <th>4</th>\n",
       "      <td>5</td>\n",
       "      <td>Pune, Maharashtra, India</td>\n",
       "      <td>Mahalunge</td>\n",
       "      <td>2BHK</td>\n",
       "      <td>743</td>\n",
       "      <td>74</td>\n",
       "      <td>7.400</td>\n",
       "      <td>Godrej Properties</td>\n",
       "      <td>Godrej Hills retreat</td>\n",
       "      <td>100.0</td>\n",
       "      <td>Yes</td>\n",
       "      <td>Yes</td>\n",
       "      <td>Yes</td>\n",
       "      <td>Yes</td>\n",
       "      <td>Yes</td>\n",
       "      <td>Yes</td>\n",
       "      <td>Yes</td>\n",
       "    </tr>\n",
       "    <tr>\n",
       "      <th>...</th>\n",
       "      <td>...</td>\n",
       "      <td>...</td>\n",
       "      <td>...</td>\n",
       "      <td>...</td>\n",
       "      <td>...</td>\n",
       "      <td>...</td>\n",
       "      <td>...</td>\n",
       "      <td>...</td>\n",
       "      <td>...</td>\n",
       "      <td>...</td>\n",
       "      <td>...</td>\n",
       "      <td>...</td>\n",
       "      <td>...</td>\n",
       "      <td>...</td>\n",
       "      <td>...</td>\n",
       "      <td>...</td>\n",
       "      <td>...</td>\n",
       "    </tr>\n",
       "    <tr>\n",
       "      <th>195</th>\n",
       "      <td>196</td>\n",
       "      <td>Pune, Maharashtra, India</td>\n",
       "      <td>BANER</td>\n",
       "      <td>3bhk</td>\n",
       "      <td>1300 to 1400</td>\n",
       "      <td>160</td>\n",
       "      <td>16.000</td>\n",
       "      <td>SUPREME</td>\n",
       "      <td>SUPREME ESTIA</td>\n",
       "      <td>5.0</td>\n",
       "      <td>yes</td>\n",
       "      <td>no</td>\n",
       "      <td>no</td>\n",
       "      <td>no</td>\n",
       "      <td>yes</td>\n",
       "      <td>yes</td>\n",
       "      <td>yes</td>\n",
       "    </tr>\n",
       "    <tr>\n",
       "      <th>196</th>\n",
       "      <td>197</td>\n",
       "      <td>Pune, Maharashtra, India</td>\n",
       "      <td>BANER</td>\n",
       "      <td>4bhk</td>\n",
       "      <td>1600 +</td>\n",
       "      <td>230</td>\n",
       "      <td>23.000</td>\n",
       "      <td>SUPREME</td>\n",
       "      <td>SUPREME ESTIA</td>\n",
       "      <td>5.0</td>\n",
       "      <td>yes</td>\n",
       "      <td>no</td>\n",
       "      <td>no</td>\n",
       "      <td>no</td>\n",
       "      <td>yes</td>\n",
       "      <td>yes</td>\n",
       "      <td>yes</td>\n",
       "    </tr>\n",
       "    <tr>\n",
       "      <th>197</th>\n",
       "      <td>198</td>\n",
       "      <td>Pune, Maharashtra, India</td>\n",
       "      <td>BANER</td>\n",
       "      <td>2 bhk</td>\n",
       "      <td>769 to 809</td>\n",
       "      <td>95</td>\n",
       "      <td>9.500</td>\n",
       "      <td>Tejraaj Group</td>\n",
       "      <td>TEJ ELEVIA</td>\n",
       "      <td>2.5</td>\n",
       "      <td>no</td>\n",
       "      <td>no</td>\n",
       "      <td>no</td>\n",
       "      <td>no</td>\n",
       "      <td>yes</td>\n",
       "      <td>yes</td>\n",
       "      <td>yes</td>\n",
       "    </tr>\n",
       "    <tr>\n",
       "      <th>198</th>\n",
       "      <td>199</td>\n",
       "      <td>Pune, Maharashtra, India</td>\n",
       "      <td>BANER</td>\n",
       "      <td>3 bhk</td>\n",
       "      <td>1101 to 1113</td>\n",
       "      <td>135</td>\n",
       "      <td>13.500</td>\n",
       "      <td>Tejraaj Group</td>\n",
       "      <td>TEJ ELEVIA</td>\n",
       "      <td>2.5</td>\n",
       "      <td>no</td>\n",
       "      <td>no</td>\n",
       "      <td>no</td>\n",
       "      <td>no</td>\n",
       "      <td>yes</td>\n",
       "      <td>yes</td>\n",
       "      <td>yes</td>\n",
       "    </tr>\n",
       "    <tr>\n",
       "      <th>199</th>\n",
       "      <td>200</td>\n",
       "      <td>Pune, Maharashtra, India</td>\n",
       "      <td>BANER</td>\n",
       "      <td>2bhk</td>\n",
       "      <td>776</td>\n",
       "      <td>90.68</td>\n",
       "      <td>9.068</td>\n",
       "      <td>VTP Reality</td>\n",
       "      <td>vtp solitaire</td>\n",
       "      <td>NaN</td>\n",
       "      <td>yes</td>\n",
       "      <td>no</td>\n",
       "      <td>no</td>\n",
       "      <td>no</td>\n",
       "      <td>yes</td>\n",
       "      <td>yes</td>\n",
       "      <td>yes</td>\n",
       "    </tr>\n",
       "  </tbody>\n",
       "</table>\n",
       "<p>200 rows × 17 columns</p>\n",
       "</div>"
      ],
      "text/plain": [
       "     Sr. No.                  Location   Sub-Area Propert Type  \\\n",
       "0          1  Pune, Maharashtra, India    Bavdhan        1 BHK   \n",
       "1          2  Pune, Maharashtra, India    Bavdhan        2 BHK   \n",
       "2          3  Pune, Maharashtra, India    Bavdhan        3 BHK   \n",
       "3          4  Pune, Maharashtra, India    Bavdhan  3 BHK Grand   \n",
       "4          5  Pune, Maharashtra, India  Mahalunge         2BHK   \n",
       "..       ...                       ...        ...          ...   \n",
       "195      196  Pune, Maharashtra, India      BANER         3bhk   \n",
       "196      197  Pune, Maharashtra, India      BANER         4bhk   \n",
       "197      198  Pune, Maharashtra, India      BANER        2 bhk   \n",
       "198      199  Pune, Maharashtra, India      BANER        3 bhk   \n",
       "199      200  Pune, Maharashtra, India      BANER        2bhk    \n",
       "\n",
       "    Property Area in Sq. Ft. Price in lakhs  Price in Millions  \\\n",
       "0                        492             39              3.900   \n",
       "1                        774             65              6.500   \n",
       "2                        889             74              7.400   \n",
       "3                       1018             89              8.900   \n",
       "4                        743             74              7.400   \n",
       "..                       ...            ...                ...   \n",
       "195             1300 to 1400            160             16.000   \n",
       "196                   1600 +            230             23.000   \n",
       "197              769 to 809              95              9.500   \n",
       "198             1101 to 1113            135             13.500   \n",
       "199                      776          90.68              9.068   \n",
       "\n",
       "           Company Name TownShip Name/ Society Name  \\\n",
       "0    Shapoorji Paloonji                     Vanaha    \n",
       "1    Shapoorji Paloonji                     Vanaha    \n",
       "2    Shapoorji Paloonji                     Vanaha    \n",
       "3    Shapoorji Paloonji                     Vanaha    \n",
       "4     Godrej Properties        Godrej Hills retreat   \n",
       "..                  ...                         ...   \n",
       "195             SUPREME               SUPREME ESTIA   \n",
       "196             SUPREME               SUPREME ESTIA   \n",
       "197       Tejraaj Group                  TEJ ELEVIA   \n",
       "198       Tejraaj Group                  TEJ ELEVIA   \n",
       "199         VTP Reality              vtp solitaire    \n",
       "\n",
       "     Total TownShip Area in Acres ClubHouse School / University in Township   \\\n",
       "0                          1000.0       Yes                              Yes   \n",
       "1                          1000.0       Yes                              Yes   \n",
       "2                          1000.0       Yes                              Yes   \n",
       "3                          1000.0       Yes                              Yes   \n",
       "4                           100.0       Yes                              Yes   \n",
       "..                            ...       ...                              ...   \n",
       "195                           5.0       yes                               no   \n",
       "196                           5.0       yes                               no   \n",
       "197                           2.5        no                               no   \n",
       "198                           2.5        no                               no   \n",
       "199                           NaN       yes                               no   \n",
       "\n",
       "    Hospital in TownShip Mall in TownShip Park / Jogging track Swimming Pool  \\\n",
       "0                    Yes              Yes                  Yes           Yes   \n",
       "1                    Yes              Yes                  Yes           Yes   \n",
       "2                    Yes              Yes                  Yes           Yes   \n",
       "3                    Yes              Yes                  Yes           Yes   \n",
       "4                    Yes              Yes                  Yes           Yes   \n",
       "..                   ...              ...                  ...           ...   \n",
       "195                   no               no                  yes           yes   \n",
       "196                   no               no                  yes           yes   \n",
       "197                   no               no                  yes           yes   \n",
       "198                   no               no                  yes           yes   \n",
       "199                   no               no                  yes           yes   \n",
       "\n",
       "     Gym  \n",
       "0    Yes  \n",
       "1    Yes  \n",
       "2    Yes  \n",
       "3    Yes  \n",
       "4    Yes  \n",
       "..   ...  \n",
       "195  yes  \n",
       "196  yes  \n",
       "197  yes  \n",
       "198  yes  \n",
       "199  yes  \n",
       "\n",
       "[200 rows x 17 columns]"
      ]
     },
     "execution_count": 2,
     "metadata": {},
     "output_type": "execute_result"
    }
   ],
   "source": [
    "df = pd.read_excel(\"./data/Real_Estate Data.xlsx\")\n",
    "df"
   ]
  },
  {
   "cell_type": "code",
   "execution_count": 3,
   "id": "f1500065-7bbd-4518-8c6b-e99aaf317a08",
   "metadata": {},
   "outputs": [
    {
     "name": "stdout",
     "output_type": "stream",
     "text": [
      "<class 'pandas.core.frame.DataFrame'>\n",
      "RangeIndex: 200 entries, 0 to 199\n",
      "Data columns (total 17 columns):\n",
      " #   Column                            Non-Null Count  Dtype  \n",
      "---  ------                            --------------  -----  \n",
      " 0   Sr. No.                           200 non-null    int64  \n",
      " 1   Location                          200 non-null    object \n",
      " 2   Sub-Area                          200 non-null    object \n",
      " 3   Propert Type                      200 non-null    object \n",
      " 4   Property Area in Sq. Ft.          200 non-null    object \n",
      " 5   Price in lakhs                    200 non-null    object \n",
      " 6   Price in Millions                 199 non-null    float64\n",
      " 7   Company Name                      200 non-null    object \n",
      " 8   TownShip Name/ Society Name       200 non-null    object \n",
      " 9   Total TownShip Area in Acres      51 non-null     float64\n",
      " 10  ClubHouse                         200 non-null    object \n",
      " 11  School / University in Township   200 non-null    object \n",
      " 12  Hospital in TownShip              200 non-null    object \n",
      " 13  Mall in TownShip                  200 non-null    object \n",
      " 14  Park / Jogging track              200 non-null    object \n",
      " 15  Swimming Pool                     200 non-null    object \n",
      " 16  Gym                               200 non-null    object \n",
      "dtypes: float64(2), int64(1), object(14)\n",
      "memory usage: 26.7+ KB\n"
     ]
    }
   ],
   "source": [
    "df.info()"
   ]
  },
  {
   "cell_type": "code",
   "execution_count": 4,
   "id": "d247bf6c-36b8-4e0c-9650-0e294f957c00",
   "metadata": {},
   "outputs": [
    {
     "data": {
      "text/plain": [
       "Sr. No.                               0\n",
       "Location                              0\n",
       "Sub-Area                              0\n",
       "Propert Type                          0\n",
       "Property Area in Sq. Ft.              0\n",
       "Price in lakhs                        0\n",
       "Price in Millions                     1\n",
       "Company Name                          0\n",
       "TownShip Name/ Society Name           0\n",
       "Total TownShip Area in Acres        149\n",
       "ClubHouse                             0\n",
       "School / University in Township       0\n",
       "Hospital in TownShip                  0\n",
       "Mall in TownShip                      0\n",
       "Park / Jogging track                  0\n",
       "Swimming Pool                         0\n",
       "Gym                                   0\n",
       "dtype: int64"
      ]
     },
     "execution_count": 4,
     "metadata": {},
     "output_type": "execute_result"
    }
   ],
   "source": [
    "df.isnull().sum()"
   ]
  },
  {
   "cell_type": "markdown",
   "id": "290eeffc-0414-44d7-b631-dd84bf2c42c2",
   "metadata": {},
   "source": [
    "There are 145 null values in Township Area column"
   ]
  },
  {
   "cell_type": "code",
   "execution_count": 5,
   "id": "94b9eb85-4fd0-4b54-8d42-aeb8507dcf90",
   "metadata": {},
   "outputs": [
    {
     "data": {
      "text/plain": [
       "np.int64(0)"
      ]
     },
     "execution_count": 5,
     "metadata": {},
     "output_type": "execute_result"
    }
   ],
   "source": [
    "df.duplicated().sum()"
   ]
  },
  {
   "cell_type": "markdown",
   "id": "7e15dafe-781d-417d-beda-6d6c967d56a4",
   "metadata": {},
   "source": [
    "There are no duplicates"
   ]
  },
  {
   "cell_type": "code",
   "execution_count": 6,
   "id": "c0fe0de7-32a0-440a-83f0-684c6997b8fe",
   "metadata": {},
   "outputs": [],
   "source": [
    "# Renaming column typo\n",
    "df.rename(columns={\n",
    "    'Propert Type': 'Type', \n",
    "    'Property Area in Sq. Ft.': 'Area',\n",
    "    'Price in Millions': 'Price',\n",
    "    'Company Name': 'Company',\n",
    "    'TownShip Name/ Society Name': 'Township',\n",
    "    'Total TownShip Area in Acres': 'Township Area',\n",
    "    'School / University in Township ': 'School',\n",
    "    'Hospital in TownShip': 'Hospital',\n",
    "    'Mall in TownShip': 'Mall',\n",
    "    'Park / Jogging track': 'Park',\n",
    "    'Swimming Pool': 'Pool'\n",
    "}, inplace=True)"
   ]
  },
  {
   "cell_type": "code",
   "execution_count": 7,
   "id": "d1df780e-fa55-49ee-9256-55ed5d4f6cb4",
   "metadata": {},
   "outputs": [
    {
     "data": {
      "text/html": [
       "<div>\n",
       "<style scoped>\n",
       "    .dataframe tbody tr th:only-of-type {\n",
       "        vertical-align: middle;\n",
       "    }\n",
       "\n",
       "    .dataframe tbody tr th {\n",
       "        vertical-align: top;\n",
       "    }\n",
       "\n",
       "    .dataframe thead th {\n",
       "        text-align: right;\n",
       "    }\n",
       "</style>\n",
       "<table border=\"1\" class=\"dataframe\">\n",
       "  <thead>\n",
       "    <tr style=\"text-align: right;\">\n",
       "      <th></th>\n",
       "      <th>Sr. No.</th>\n",
       "      <th>Price</th>\n",
       "      <th>Township Area</th>\n",
       "    </tr>\n",
       "  </thead>\n",
       "  <tbody>\n",
       "    <tr>\n",
       "      <th>count</th>\n",
       "      <td>200.000000</td>\n",
       "      <td>199.000000</td>\n",
       "      <td>51.000000</td>\n",
       "    </tr>\n",
       "    <tr>\n",
       "      <th>mean</th>\n",
       "      <td>100.500000</td>\n",
       "      <td>9.525829</td>\n",
       "      <td>97.392157</td>\n",
       "    </tr>\n",
       "    <tr>\n",
       "      <th>std</th>\n",
       "      <td>57.879185</td>\n",
       "      <td>10.186984</td>\n",
       "      <td>266.710786</td>\n",
       "    </tr>\n",
       "    <tr>\n",
       "      <th>min</th>\n",
       "      <td>1.000000</td>\n",
       "      <td>1.319000</td>\n",
       "      <td>2.500000</td>\n",
       "    </tr>\n",
       "    <tr>\n",
       "      <th>25%</th>\n",
       "      <td>50.750000</td>\n",
       "      <td>5.150000</td>\n",
       "      <td>5.000000</td>\n",
       "    </tr>\n",
       "    <tr>\n",
       "      <th>50%</th>\n",
       "      <td>100.500000</td>\n",
       "      <td>7.000000</td>\n",
       "      <td>25.000000</td>\n",
       "    </tr>\n",
       "    <tr>\n",
       "      <th>75%</th>\n",
       "      <td>150.250000</td>\n",
       "      <td>9.943500</td>\n",
       "      <td>25.000000</td>\n",
       "    </tr>\n",
       "    <tr>\n",
       "      <th>max</th>\n",
       "      <td>200.000000</td>\n",
       "      <td>93.000000</td>\n",
       "      <td>1000.000000</td>\n",
       "    </tr>\n",
       "  </tbody>\n",
       "</table>\n",
       "</div>"
      ],
      "text/plain": [
       "          Sr. No.       Price  Township Area\n",
       "count  200.000000  199.000000      51.000000\n",
       "mean   100.500000    9.525829      97.392157\n",
       "std     57.879185   10.186984     266.710786\n",
       "min      1.000000    1.319000       2.500000\n",
       "25%     50.750000    5.150000       5.000000\n",
       "50%    100.500000    7.000000      25.000000\n",
       "75%    150.250000    9.943500      25.000000\n",
       "max    200.000000   93.000000    1000.000000"
      ]
     },
     "execution_count": 7,
     "metadata": {},
     "output_type": "execute_result"
    }
   ],
   "source": [
    "df.describe()"
   ]
  },
  {
   "cell_type": "code",
   "execution_count": 8,
   "id": "2899696e-acde-4be8-8d3d-4e0f16489c26",
   "metadata": {},
   "outputs": [
    {
     "name": "stdout",
     "output_type": "stream",
     "text": [
      "Sr. No. [  1   2   3   4   5   6   7   8   9  10  11  12  13  14  15  16  17  18\n",
      "  19  20  21  22  23  24  25  26  27  28  29  30  31  32  33  34  35  36\n",
      "  37  38  39  40  41  42  43  44  45  46  47  48  49  50  51  52  53  54\n",
      "  55  56  57  58  59  60  61  62  63  64  65  66  67  68  69  70  71  72\n",
      "  73  74  75  76  77  78  79  80  81  82  83  84  85  86  87  88  89  90\n",
      "  91  92  93  94  95  96  97  98  99 100 101 102 103 104 105 106 107 108\n",
      " 109 110 111 112 113 114 115 116 117 118 119 120 121 122 123 124 125 126\n",
      " 127 128 129 130 131 132 133 134 135 136 137 138 139 140 141 142 143 144\n",
      " 145 146 147 148 149 150 151 152 153 154 155 156 157 158 159 160 161 162\n",
      " 163 164 165 166 167 168 169 170 171 172 173 174 175 176 177 178 179 180\n",
      " 181 182 183 184 185 186 187 188 189 190 191 192 193 194 195 196 197 198\n",
      " 199 200] 200\n",
      "Location ['Pune, Maharashtra, India'] 1\n",
      "Sub-Area ['Bavdhan' 'Mahalunge' 'Balewadi' 'Ravet' 'Baner' 'Kharadi'\n",
      " 'Koregaon Park' 'Keshav Nagar' 'KirkatWadi Sinhagad Road' 'Akurdi'\n",
      " 'pimpri pune' 'tathawade' 'hadapsar' 'kiwale' 'kayani nagar' 'pisoli'\n",
      " 'manjri ' 'mahalunge' 'handewadi' 'koregoan' 'Mundhwa' 'NIBM'\n",
      " 'BT Kawade RD' 'Undri ' 'Karvanagar ' 'magarpatta ' 'Hinjewadi ' 'ravet '\n",
      " 'vimannagar' 'wadgaon sheri ' 'Susgaon ' 'mohammadwadi ' 'dhanori '\n",
      " 'bavdhan budruk ' 'lonavala' 'baner' 'bavdhan' 'talegoan ' 'BANER'] 39\n",
      "Type ['1 BHK' '2 BHK' '3 BHK' '3 BHK Grand' '2BHK' '3BHK' '4BHK' '5BHK' '6BHK'\n",
      " '1BHK' 'shop' '2 bhk' '2bhk ' '3  bhk ' '3 bhk' '2bhk' '2.5 BHK' '3 BHK '\n",
      " '4 bhk' '1 bhk' '2.5 bhk' '1bhk' '3bhk' '3.5bhk' '3.5 bhk' '3bhk '\n",
      " '2+2 bhk' '3+2bhk ' '2 bhk ' '5 bhk' '1bhk ' '4.5bhk' '4bhk'] 33\n",
      "Area [492 774 889 1018 743 975 '877 to 912' '1077 to 1272' 905 1125 1644 2220\n",
      " '662 to 845' '890 to 1212' 423 665 '792 to 965' 462 666 750 1030 446 796\n",
      " 842 865 902 1154 872 934 1088 1109 1163 1419 1485 684 990 882 1103 543\n",
      " '801 to 1125' '1272 to 2138' 320 473 581 790 820 989 1003 1182 1579 163\n",
      " 491 659 732 809 460 734 753 675 917 670 740 847 936 1032 1698 2267 725\n",
      " 731 744 923 930 792 1180 860 988 1093 456 644 785 1060 113 664 673 682\n",
      " 698 1239 1315 1388 1463 1671 1687 575 751 761 871 1166 1206 1272 1279 646\n",
      " 717 436 637 642 655 668 810 735 783 805 1074 1111 535 947 697 711 980\n",
      " 1400 1772 1662 705 726 793 904 1168 1189 479 693 808 1086 844 873 606 611\n",
      " 626 691 835 854 715 '624 to 761' 968 996 1038 489 598 616 692 867 908\n",
      " 1624 2043 727 '561 to 902' '1056 to 1091' 408 546 629 378 494 780 850 900\n",
      " '1181, 1364' 1740 2447 405 392 667 641 280 385 730 '1070 to 1200'\n",
      " '1300 to 1400' '1600 +' '769 to 809 ' '1101 to 1113' 776] 179\n",
      "Price in lakhs [39 65 74 89 95 75 100 88 135 188 58 40 78 36 48 57 79 37 59 61 63 73 76\n",
      " 80 96 70 90 97 120 42 'Null' 14 22 26 83 101 103 128 163 54 51 60 66 45.5\n",
      " 72.5 73.5 62 84 54.14 58.32 69.38 75.03 79.02 82.1 249 460 45.75 49.34\n",
      " 49.74 50.56 923 930 55 65.5 68 92 33.5 47.3 55.22 136 143 47.59 47.7 47.8\n",
      " 47.91 48.02 161 170 178 187 211 213 85 129 133 139 140 43.2 47.4 30.58\n",
      " 43.49 43.83 44.44 45.52 111 118 121 162 167 52 68.06 68.41 98.87 177 68.8\n",
      " 130 56 110 146 147 149 38.68 60.72 81.49 108 74.5 80.59 47.25 47.5 48.43\n",
      " 55.26 67 45.7 87 43.8 55.3 56.5 62.3 79.3 82.5 159 215 45.74 58.95 109\n",
      " 39.99 53.99 59.99 33 47 175 250 420 39.49 64.99 13.19 17.29 160 230 90.68] 150\n",
      "Price [ 3.9    6.5    7.4    8.9    9.5    7.5   10.     8.8   13.5   18.8\n",
      "  5.8    4.     7.8    3.6    4.8    5.7    7.9    3.7    5.9    6.1\n",
      "  6.3    7.3    7.6    8.     9.6    7.     9.     9.7   12.     4.2\n",
      "    nan  1.4    2.2    2.6    8.3   10.1   10.3   12.8   16.3    5.4\n",
      "  5.1    6.     6.6    4.55   7.25   7.35   6.2    8.4    5.414  5.832\n",
      "  6.938  7.503  7.902  8.21  24.9   46.     4.575  4.934  4.974  5.056\n",
      " 92.3   93.     5.5    6.55   6.8    9.2    3.35   4.73   5.522 13.6\n",
      " 14.3    4.759  4.77   4.78   4.791  4.802 16.1   17.    17.8   18.7\n",
      " 21.1   21.3    8.5   12.9   13.3   13.9   14.     4.32   4.74   3.058\n",
      "  4.349  4.383  4.444  4.552 11.1   11.8   12.1   16.2   16.7    5.2\n",
      "  6.806  6.841  9.887 17.7    6.88  13.     5.6   11.    14.6   14.7\n",
      " 14.9    3.868  6.072  8.149 10.8    7.45   8.059  4.725  4.75   4.843\n",
      "  5.526  6.7    4.57   8.7    4.38   5.53   5.65   6.23   7.93   8.25\n",
      " 15.9   21.5    4.574  5.895 10.9    3.999  5.399  5.999  3.3    4.7\n",
      " 17.5   25.    42.     3.949  6.499  1.319  1.729 16.    23.     9.068] 150\n",
      "Company ['Shapoorji Paloonji' 'Godrej Properties' 'ANP CORP' 'Urban Space Creator'\n",
      " 'VTP Reality' 'Waghvani Constructions' 'Sukwani Associates'\n",
      " 'Mantra Properties' 'ravima ventures ' 'proviso group'\n",
      " 'unique properties' 'sagitarius ecospaces llp' 'nirman developers'\n",
      " 'jhala group' 'shroff developers ' 'kundan Spaces'\n",
      " 'venkatesh bhoomi construction' 'Lush Life'\n",
      " 'maha anand Pinnac associates ' 'vasupujya corporation'\n",
      " 'ace constructions ' 'Wellwisher Apartments ' 'Dolphin Group '\n",
      " 'Oxy Buildcorp' 'kohinoor group' 'Bhaktamar Realities '\n",
      " 'Porwal & Anand Develkoper' 'Porwal  Develkoper' 'keystone landmark '\n",
      " 'Puraniks' 'majestique landmarks ' 'Kalpataru' 'Vijaya Laxmi Creations'\n",
      " 'vijaya Laxmi infrarealtors' 'Calyx Spaces' 'SUPREME' 'Tejraaj Group'] 37\n",
      "Township ['Vanaha ' 'Godrej Hills retreat' 'ANP Universe' 'Urban Skyline'\n",
      " 'VTP Cierra' 'VTP Blue Water' 'OM Mangalam Chaitanya' 'Sukwani Aspire'\n",
      " 'Mantra 29 Gold' 'Mantra Monarch' 'Infinity' 'Mantra Insignia' '7Hills'\n",
      " 'Mantra Sky Tower' 'the work club' 'newton homes' 'lesiure Town'\n",
      " 'k ville' 'bluegrass residences' 'brookefield willows'\n",
      " 'tranquility annexe' 'mahalunge riviera ' 'simplicity' 'aureta '\n",
      " 'unique legacy royale' 'Presidia ' 'Eternia 2.0' 'Bliss Solitaire'\n",
      " 'Impero' 'River Dale Residency' 'Neco Beaumont' 'Anutham' 'Sensorium '\n",
      " 'kiarah terrazo' 'Dolphin Garima ' 'Oxy Beaumonde ' 'Sportsville '\n",
      " 'Presidenta ' 'Bhaktamar Residency ' 'Parklane UrbanJoy ' 'khush vista'\n",
      " 'oxy eterno' 'Abitante Fiore' 'puraniks Sayama' 'Rhythm county '\n",
      " 'Kalpataru Serenity' 'Satyam Shivam' 'Satyam Serenity' 'jade residences '\n",
      " 'Satyam Shery' 'Atulya Kanhe' 'SUPREME ESTIA' 'TEJ ELEVIA'\n",
      " 'vtp solitaire '] 54\n",
      "Township Area [1000.   100.    25.    10.    50.     3.     nan    3.5    5.     2.5] 10\n",
      "ClubHouse ['Yes' 'no' 'yes' 'no '] 4\n",
      "School ['Yes' 'No' 'no'] 3\n",
      "Hospital ['Yes' 'No' 'no'] 3\n",
      "Mall ['Yes' 'No' 'no ' 'no'] 4\n",
      "Park ['Yes' 'No' 'yes' 'no'] 4\n",
      "Pool ['Yes' 'No' 'no' 'yes' 'no '] 5\n",
      "Gym ['Yes' 'no' 'yes' 'no '] 4\n"
     ]
    }
   ],
   "source": [
    "for col in df.columns:\n",
    "    unqs = df[col].unique()\n",
    "    print(col, unqs, len(unqs))"
   ]
  },
  {
   "cell_type": "markdown",
   "id": "15dec0e7-34ce-4cd5-8ec4-0ffd134816e5",
   "metadata": {},
   "source": [
    "### Cleaning Data"
   ]
  },
  {
   "cell_type": "code",
   "execution_count": 9,
   "id": "19508cd5-cb60-4c91-9af6-f46fe15da158",
   "metadata": {},
   "outputs": [],
   "source": [
    "# Removing irrelavent columns Sr.No. and Price in lakhs\n",
    "df.drop(columns=['Sr. No.', 'Price in lakhs'], axis=1, inplace=True)"
   ]
  },
  {
   "cell_type": "markdown",
   "id": "7c283691-8ae3-45d3-9f67-b802f5f7fec6",
   "metadata": {},
   "source": [
    "#### Location"
   ]
  },
  {
   "cell_type": "code",
   "execution_count": 10,
   "id": "2bdc4c06-a61e-4a3d-bf96-19254f166886",
   "metadata": {},
   "outputs": [
    {
     "data": {
      "text/plain": [
       "array(['Pune, Maharashtra, India'], dtype=object)"
      ]
     },
     "execution_count": 10,
     "metadata": {},
     "output_type": "execute_result"
    }
   ],
   "source": [
    "df['Location'].unique()"
   ]
  },
  {
   "cell_type": "markdown",
   "id": "01cd7154-c124-4938-808e-e2860535c16b",
   "metadata": {},
   "source": [
    "Since there are only one category for 'location'. We remove the 'location' column"
   ]
  },
  {
   "cell_type": "code",
   "execution_count": 11,
   "id": "65a45ae2-6dbf-43db-aab8-bd6d018d1152",
   "metadata": {},
   "outputs": [],
   "source": [
    "df.drop(columns=['Location'], axis=1, inplace=True)"
   ]
  },
  {
   "cell_type": "markdown",
   "id": "12f20f3f-8164-4248-9f02-7ecce168d31d",
   "metadata": {},
   "source": [
    "#### Sub-Area"
   ]
  },
  {
   "cell_type": "code",
   "execution_count": 12,
   "id": "4b42039e-768d-4fdd-a6ad-1654a3e65f32",
   "metadata": {},
   "outputs": [
    {
     "data": {
      "text/plain": [
       "array(['Bavdhan', 'Mahalunge', 'Balewadi', 'Ravet', 'Baner', 'Kharadi',\n",
       "       'Koregaon Park', 'Keshav Nagar', 'KirkatWadi Sinhagad Road',\n",
       "       'Akurdi', 'pimpri pune', 'tathawade', 'hadapsar', 'kiwale',\n",
       "       'kayani nagar', 'pisoli', 'manjri ', 'mahalunge', 'handewadi',\n",
       "       'koregoan', 'Mundhwa', 'NIBM', 'BT Kawade RD', 'Undri ',\n",
       "       'Karvanagar ', 'magarpatta ', 'Hinjewadi ', 'ravet ', 'vimannagar',\n",
       "       'wadgaon sheri ', 'Susgaon ', 'mohammadwadi ', 'dhanori ',\n",
       "       'bavdhan budruk ', 'lonavala', 'baner', 'bavdhan', 'talegoan ',\n",
       "       'BANER'], dtype=object)"
      ]
     },
     "execution_count": 12,
     "metadata": {},
     "output_type": "execute_result"
    }
   ],
   "source": [
    "df['Sub-Area'].unique()"
   ]
  },
  {
   "cell_type": "code",
   "execution_count": 13,
   "id": "cd069bb0-ef20-4536-9d20-02355ef03f66",
   "metadata": {},
   "outputs": [
    {
     "name": "stdout",
     "output_type": "stream",
     "text": [
      "['akurdi', 'balewadi', 'baner', 'baner', 'baner', 'bavdhan', 'bavdhan', 'bavdhan budruk ', 'bt kawade rd', 'dhanori ', 'hadapsar', 'handewadi', 'hinjewadi ', 'karvanagar ', 'kayani nagar', 'keshav nagar', 'kharadi', 'kirkatwadi sinhagad road', 'kiwale', 'koregaon park', 'koregoan', 'lonavala', 'magarpatta ', 'mahalunge', 'mahalunge', 'manjri ', 'mohammadwadi ', 'mundhwa', 'nibm', 'pimpri pune', 'pisoli', 'ravet', 'ravet ', 'susgaon ', 'talegoan ', 'tathawade', 'undri ', 'vimannagar', 'wadgaon sheri ']\n"
     ]
    }
   ],
   "source": [
    "print(sorted(list(map(lambda x: x.lower(), df['Sub-Area'].unique()))))"
   ]
  },
  {
   "cell_type": "markdown",
   "id": "52b86fde-3606-421d-bae1-7356ad2f617a",
   "metadata": {},
   "source": [
    "- 'baner', 'bavdhan', 'ravet', 'mahalunge' are duplicated\n",
    "- According to Google maps 'bavdhan budruk ' is also called as 'Bavdhan' \n",
    "- According to Google maps 'koregoan' is same as 'koregaon park'\n",
    "- Some categories even have whitespaces"
   ]
  },
  {
   "cell_type": "code",
   "execution_count": 14,
   "id": "75b64438-480d-4199-9a61-dacac57873ad",
   "metadata": {},
   "outputs": [],
   "source": [
    "# Transforming all categories to lower case\n",
    "df['Sub-Area'] = df['Sub-Area'].str.lower()\n",
    "\n",
    "# Remove all trailing whitespaces\n",
    "df['Sub-Area'] = df['Sub-Area'].str.strip()"
   ]
  },
  {
   "cell_type": "code",
   "execution_count": 15,
   "id": "07d28c37-ead1-42f5-8f96-221fed618b3a",
   "metadata": {},
   "outputs": [],
   "source": [
    "# Replace similar places\n",
    "df['Sub-Area'] = df['Sub-Area'].replace('bavdhan budruk', 'baner')\n",
    "df['Sub-Area'] = df['Sub-Area'].replace('koregoan', 'koregaon park')"
   ]
  },
  {
   "cell_type": "markdown",
   "id": "e5fc4ba3-5b37-4890-8fb8-0136dfdc835e",
   "metadata": {},
   "source": [
    "#### Property Type"
   ]
  },
  {
   "cell_type": "code",
   "execution_count": 16,
   "id": "3d047fa9-d15e-47c3-ab88-ad0176c9cb67",
   "metadata": {},
   "outputs": [
    {
     "data": {
      "text/plain": [
       "array(['1 BHK', '2 BHK', '3 BHK', '3 BHK Grand', '2BHK', '3BHK', '4BHK',\n",
       "       '5BHK', '6BHK', '1BHK', 'shop', '2 bhk', '2bhk ', '3  bhk ',\n",
       "       '3 bhk', '2bhk', '2.5 BHK', '3 BHK ', '4 bhk', '1 bhk', '2.5 bhk',\n",
       "       '1bhk', '3bhk', '3.5bhk', '3.5 bhk', '3bhk ', '2+2 bhk', '3+2bhk ',\n",
       "       '2 bhk ', '5 bhk', '1bhk ', '4.5bhk', '4bhk'], dtype=object)"
      ]
     },
     "execution_count": 16,
     "metadata": {},
     "output_type": "execute_result"
    }
   ],
   "source": [
    "df['Type'].unique()"
   ]
  },
  {
   "cell_type": "code",
   "execution_count": 17,
   "id": "2c158cb8-fba4-40bd-842f-f7e773ba57ee",
   "metadata": {},
   "outputs": [],
   "source": [
    "# Removing shop type since this data is for residential units only\n",
    "df = df[df['Type'] != 'shop']"
   ]
  },
  {
   "cell_type": "markdown",
   "id": "e92a5484-c97a-41ec-8e07-0a80270ddd18",
   "metadata": {},
   "source": [
    "- The categories will be all converted to lowercase\n",
    "- 'bhk' and 'grand' will be removed from the string\n",
    "- categories containing '+' will be added\n",
    "- All values to be converted to float data type"
   ]
  },
  {
   "cell_type": "code",
   "execution_count": 18,
   "id": "86e7a758-b613-489c-8b59-019087114c45",
   "metadata": {},
   "outputs": [],
   "source": [
    "def clean_property_type(t):\n",
    "    t = t.lower().replace('bhk' ,'').replace('grand', '').strip()\n",
    "    if '+' in t:\n",
    "        t_split = t.split('+')\n",
    "        t = int(t_split[0]) + int(t_split[1])\n",
    "    return float(t)"
   ]
  },
  {
   "cell_type": "code",
   "execution_count": 19,
   "id": "4d98b4f1-86b5-4f3b-9ad8-80f77ff8acd3",
   "metadata": {},
   "outputs": [],
   "source": [
    "df['Type'] = df['Type'].map(clean_property_type)"
   ]
  },
  {
   "cell_type": "markdown",
   "id": "1a53486f-0536-41ab-8d70-367baa60bbbd",
   "metadata": {},
   "source": [
    "#### Property Area in Sq. Ft."
   ]
  },
  {
   "cell_type": "code",
   "execution_count": 20,
   "id": "9ac13c1e-3db2-4419-954c-71d9ede3af0a",
   "metadata": {},
   "outputs": [
    {
     "data": {
      "text/plain": [
       "array([492, 774, 889, 1018, 743, 975, '877 to 912', '1077 to 1272', 905,\n",
       "       1125, 1644, 2220, '662 to 845', '890 to 1212', 423, 665,\n",
       "       '792 to 965', 462, 666, 750, 1030, 446, 796, 842, 865, 902, 1154,\n",
       "       872, 934, 1088, 1109, 1163, 1419, 1485, 684, 990, 882, 1103, 543,\n",
       "       '801 to 1125', '1272 to 2138', 320, 473, 581, 790, 820, 989, 1003,\n",
       "       1182, 1579, 491, 659, 732, 809, 460, 734, 753, 675, 917, 670, 740,\n",
       "       847, 936, 1032, 1698, 2267, 725, 731, 744, 923, 930, 792, 1180,\n",
       "       860, 988, 1093, 456, 644, 785, 1060, 113, 664, 673, 682, 698, 1239,\n",
       "       1315, 1388, 1463, 1671, 1687, 575, 751, 761, 871, 1166, 1206, 1272,\n",
       "       1279, 646, 717, 436, 637, 642, 655, 668, 810, 735, 783, 805, 1074,\n",
       "       1111, 535, 947, 697, 711, 980, 1400, 1772, 1662, 705, 726, 793,\n",
       "       904, 1168, 1189, 479, 693, 808, 1086, 844, 873, 606, 611, 626, 691,\n",
       "       835, 854, 715, '624 to 761', 968, 996, 1038, 489, 598, 616, 692,\n",
       "       867, 908, 1624, 2043, 727, '561 to 902', '1056 to 1091', 408, 546,\n",
       "       629, 378, 494, 780, 850, 900, '1181, 1364', 1740, 2447, 405, 392,\n",
       "       667, 641, 280, 385, 730, '1070 to 1200', '1300 to 1400', '1600 +',\n",
       "       '769 to 809 ', '1101 to 1113', 776], dtype=object)"
      ]
     },
     "execution_count": 20,
     "metadata": {},
     "output_type": "execute_result"
    }
   ],
   "source": [
    "df['Area'].unique()"
   ]
  },
  {
   "cell_type": "markdown",
   "id": "e6d928ce-b72d-4555-a132-c2fac6aac827",
   "metadata": {},
   "source": [
    "- There is a mixture of int and string values\n",
    "- string values containing 'to' or ',' will be averaged\n",
    "- '+' will removed from the string\n",
    "- All values are to be converted to int data type"
   ]
  },
  {
   "cell_type": "code",
   "execution_count": 21,
   "id": "1c78d464-a083-45d2-b197-696bb005d0e0",
   "metadata": {},
   "outputs": [],
   "source": [
    "def clean_property_area_in_sq_ft(a):\n",
    "    if type(a) is str:\n",
    "        if '+' in a:\n",
    "            a = a.replace('+', '').strip()\n",
    "        if 'to' in a:\n",
    "            a_split = a.split('to')\n",
    "            a = int(a_split[0].strip()) + int(a_split[1].strip()) / 2\n",
    "        elif ',' in a:\n",
    "            a_split = a.split(',')\n",
    "            a = int(a_split[0].strip()) + int(a_split[1].strip()) / 2\n",
    "    return int(a)"
   ]
  },
  {
   "cell_type": "code",
   "execution_count": 22,
   "id": "a29e1f12-3316-40e9-a40f-3a7bf1b64637",
   "metadata": {},
   "outputs": [],
   "source": [
    "df['Area'] = df['Area'].map(clean_property_area_in_sq_ft)"
   ]
  },
  {
   "cell_type": "markdown",
   "id": "e7c36fa7-d513-4c3a-be21-37e96eb03c2f",
   "metadata": {},
   "source": [
    "#### Company Name"
   ]
  },
  {
   "cell_type": "code",
   "execution_count": 23,
   "id": "6e977af2-cde8-4d7c-b933-e67854256a4f",
   "metadata": {},
   "outputs": [
    {
     "data": {
      "text/plain": [
       "array(['Shapoorji Paloonji', 'Godrej Properties', 'ANP CORP',\n",
       "       'Urban Space Creator', 'VTP Reality', 'Waghvani Constructions',\n",
       "       'Sukwani Associates', 'Mantra Properties', 'ravima ventures ',\n",
       "       'proviso group', 'unique properties', 'sagitarius ecospaces llp',\n",
       "       'nirman developers', 'jhala group', 'shroff developers ',\n",
       "       'kundan Spaces', 'venkatesh bhoomi construction', 'Lush Life',\n",
       "       'maha anand Pinnac associates ', 'vasupujya corporation',\n",
       "       'ace constructions ', 'Wellwisher Apartments ', 'Dolphin Group ',\n",
       "       'Oxy Buildcorp', 'kohinoor group', 'Bhaktamar Realities ',\n",
       "       'Porwal & Anand Develkoper', 'Porwal  Develkoper',\n",
       "       'keystone landmark ', 'Puraniks', 'majestique landmarks ',\n",
       "       'Kalpataru', 'Vijaya Laxmi Creations',\n",
       "       'vijaya Laxmi infrarealtors', 'Calyx Spaces', 'SUPREME',\n",
       "       'Tejraaj Group'], dtype=object)"
      ]
     },
     "execution_count": 23,
     "metadata": {},
     "output_type": "execute_result"
    }
   ],
   "source": [
    "df['Company'].unique()"
   ]
  },
  {
   "cell_type": "markdown",
   "id": "7180b74c-4490-42a3-9a65-ba0092839e89",
   "metadata": {},
   "source": [
    "According to Google 'Porwal  Develkoper' is same as 'Porwal & Anand Develkoper'. Replacing both of them to 'Porwal Developer'"
   ]
  },
  {
   "cell_type": "code",
   "execution_count": 24,
   "id": "74874200-7b9e-484d-b461-c108505d2e01",
   "metadata": {},
   "outputs": [],
   "source": [
    "df['Company'] = df['Company'].replace('Porwal  Develkoper', 'Porwal Developer')\n",
    "df['Company'] = df['Company'].replace('Porwal & Anand Develkoper', 'Porwal Developer')"
   ]
  },
  {
   "cell_type": "code",
   "execution_count": 25,
   "id": "30cd37bd-b162-4824-92e8-279642f57181",
   "metadata": {},
   "outputs": [],
   "source": [
    "df['Company'] = df['Company'].str.lower().str.strip()"
   ]
  },
  {
   "cell_type": "markdown",
   "id": "050eab6e-6deb-4db7-9ebb-95490b0278b5",
   "metadata": {},
   "source": [
    "#### TownShip Name/ Society Name"
   ]
  },
  {
   "cell_type": "code",
   "execution_count": 26,
   "id": "4c9c656f-d6cf-4cce-b369-f98a8014d452",
   "metadata": {},
   "outputs": [
    {
     "data": {
      "text/plain": [
       "array(['Vanaha ', 'Godrej Hills retreat', 'ANP Universe', 'Urban Skyline',\n",
       "       'VTP Cierra', 'VTP Blue Water', 'OM Mangalam Chaitanya',\n",
       "       'Sukwani Aspire', 'Mantra 29 Gold', 'Mantra Monarch', 'Infinity',\n",
       "       'Mantra Insignia', '7Hills', 'Mantra Sky Tower', 'newton homes',\n",
       "       'lesiure Town', 'k ville', 'bluegrass residences',\n",
       "       'brookefield willows', 'tranquility annexe', 'mahalunge riviera ',\n",
       "       'simplicity', 'aureta ', 'unique legacy royale', 'Presidia ',\n",
       "       'Eternia 2.0', 'Bliss Solitaire', 'Impero', 'River Dale Residency',\n",
       "       'Neco Beaumont', 'Anutham', 'Sensorium ', 'kiarah terrazo',\n",
       "       'Dolphin Garima ', 'Oxy Beaumonde ', 'Sportsville ', 'Presidenta ',\n",
       "       'Bhaktamar Residency ', 'Parklane UrbanJoy ', 'khush vista',\n",
       "       'oxy eterno', 'Abitante Fiore', 'puraniks Sayama',\n",
       "       'Rhythm county ', 'Kalpataru Serenity', 'Satyam Shivam',\n",
       "       'Satyam Serenity', 'jade residences ', 'Satyam Shery',\n",
       "       'Atulya Kanhe', 'SUPREME ESTIA', 'TEJ ELEVIA', 'vtp solitaire '],\n",
       "      dtype=object)"
      ]
     },
     "execution_count": 26,
     "metadata": {},
     "output_type": "execute_result"
    }
   ],
   "source": [
    "df['Township'].unique()"
   ]
  },
  {
   "cell_type": "code",
   "execution_count": 27,
   "id": "ad6055c2-e931-4fb0-af8c-8055f95805fb",
   "metadata": {},
   "outputs": [],
   "source": [
    "df['Township'] = df['Township'].str.strip()"
   ]
  },
  {
   "cell_type": "markdown",
   "id": "d0903e6a-7235-4c7e-8cf4-3c770472f7ec",
   "metadata": {},
   "source": [
    "#### ClubHouse, School, Hospital, Mall, Park, Swimming, Gym"
   ]
  },
  {
   "cell_type": "code",
   "execution_count": 28,
   "id": "ac13fc12-a251-4d70-8970-f03cdc7b97a3",
   "metadata": {},
   "outputs": [],
   "source": [
    "def clean_bool_feature(b):\n",
    "    b = b.lower().strip()\n",
    "    return 1 if b=='yes' else 0"
   ]
  },
  {
   "cell_type": "code",
   "execution_count": 29,
   "id": "e3038e8c-a8e6-4103-82a8-c10dd631bf1b",
   "metadata": {},
   "outputs": [],
   "source": [
    "df['ClubHouse'] = df['ClubHouse'].map(clean_bool_feature)\n",
    "df['School'] = df['School'].map(clean_bool_feature)\n",
    "df['Hospital'] = df['Hospital'].map(clean_bool_feature)\n",
    "df['Mall'] = df['Mall'].map(clean_bool_feature)\n",
    "df['Park'] = df['Park'].map(clean_bool_feature)\n",
    "df['Pool'] = df['Pool'].map(clean_bool_feature)\n",
    "df['Gym'] = df['Gym'].map(clean_bool_feature)"
   ]
  },
  {
   "cell_type": "markdown",
   "id": "7837a2c9-3718-4892-94e1-96364a6f2d9f",
   "metadata": {},
   "source": [
    "### Outlier Analysis"
   ]
  },
  {
   "cell_type": "code",
   "execution_count": 30,
   "id": "204d0c9d-e910-4809-9d13-6967c3a4dd0a",
   "metadata": {},
   "outputs": [
    {
     "data": {
      "text/plain": [
       "<Axes: xlabel='Type', ylabel='Area'>"
      ]
     },
     "execution_count": 30,
     "metadata": {},
     "output_type": "execute_result"
    },
    {
     "data": {
      "image/png": "[encoded data removed]",
      "text/plain": [
       "<Figure size 640x480 with 1 Axes>"
      ]
     },
     "metadata": {},
     "output_type": "display_data"
    }
   ],
   "source": [
    "sns.scatterplot(df, x='Type', y='Area')"
   ]
  },
  {
   "cell_type": "markdown",
   "id": "591b4f56-04ba-495a-8b1b-39778f5a4cf8",
   "metadata": {},
   "source": [
    "Type 6 could be considered as an outlier since there are only one such data point in the dataset. But here we vote to keep it as it is, since it follows the linear trend with other points"
   ]
  },
  {
   "cell_type": "code",
   "execution_count": 31,
   "id": "a990099c-dde8-4630-b878-0f4e107d9ad6",
   "metadata": {},
   "outputs": [
    {
     "data": {
      "text/plain": [
       "<Axes: xlabel='Price', ylabel='Area'>"
      ]
     },
     "execution_count": 31,
     "metadata": {},
     "output_type": "execute_result"
    },
    {
     "data": {
      "image/png": "[encoded data removed]",
      "text/plain": [
       "<Figure size 640x480 with 1 Axes>"
      ]
     },
     "metadata": {},
     "output_type": "display_data"
    }
   ],
   "source": [
    "sns.scatterplot(df, x='Price', y='Area')"
   ]
  },
  {
   "cell_type": "markdown",
   "id": "5c3cf97c-89ac-425d-a3a9-e54ca83d8b10",
   "metadata": {},
   "source": [
    "- In the Price-Area plot, we see that points above price 40 are clearly outliers\n",
    "- Also data point of 3.5bhk have area 113sqft at price of 14.3 is illogical. This is definetly an data entry error."
   ]
  },
  {
   "cell_type": "code",
   "execution_count": 32,
   "id": "882600d1-b384-458e-900e-e0e6cd0571a5",
   "metadata": {},
   "outputs": [
    {
     "data": {
      "text/html": [
       "<div>\n",
       "<style scoped>\n",
       "    .dataframe tbody tr th:only-of-type {\n",
       "        vertical-align: middle;\n",
       "    }\n",
       "\n",
       "    .dataframe tbody tr th {\n",
       "        vertical-align: top;\n",
       "    }\n",
       "\n",
       "    .dataframe thead th {\n",
       "        text-align: right;\n",
       "    }\n",
       "</style>\n",
       "<table border=\"1\" class=\"dataframe\">\n",
       "  <thead>\n",
       "    <tr style=\"text-align: right;\">\n",
       "      <th></th>\n",
       "      <th>Sub-Area</th>\n",
       "      <th>Type</th>\n",
       "      <th>Area</th>\n",
       "      <th>Price</th>\n",
       "      <th>Company</th>\n",
       "      <th>Township</th>\n",
       "      <th>Township Area</th>\n",
       "      <th>ClubHouse</th>\n",
       "      <th>School</th>\n",
       "      <th>Hospital</th>\n",
       "      <th>Mall</th>\n",
       "      <th>Park</th>\n",
       "      <th>Pool</th>\n",
       "      <th>Gym</th>\n",
       "    </tr>\n",
       "  </thead>\n",
       "  <tbody>\n",
       "  </tbody>\n",
       "</table>\n",
       "</div>"
      ],
      "text/plain": [
       "Empty DataFrame\n",
       "Columns: [Sub-Area, Type, Area, Price, Company, Township, Township Area, ClubHouse, School, Hospital, Mall, Park, Pool, Gym]\n",
       "Index: []"
      ]
     },
     "execution_count": 32,
     "metadata": {},
     "output_type": "execute_result"
    }
   ],
   "source": [
    "# Removing prices above 40\n",
    "# Removing data entry error points\n",
    "\n",
    "df = df[(df['Price']<40) & (df['Area'] > 200)]\n",
    "df[df['Area'] < 200]"
   ]
  },
  {
   "cell_type": "markdown",
   "id": "ebb882cd-0fae-4d26-92cd-742c96ff7995",
   "metadata": {},
   "source": [
    "### Save Dataframe"
   ]
  },
  {
   "cell_type": "code",
   "execution_count": 33,
   "id": "fca39114-833a-4568-aec2-2d4f527ffe31",
   "metadata": {},
   "outputs": [],
   "source": [
    "df.to_csv(\"./data/cleaned_data.csv\", index=False)"
   ]
  }
 ],
 "metadata": {
  "kernelspec": {
   "display_name": "ds-venv",
   "language": "python",
   "name": "ds-venv"
  },
  "language_info": {
   "codemirror_mode": {
    "name": "ipython",
    "version": 3
   },
   "file_extension": ".py",
   "mimetype": "text/x-python",
   "name": "python",
   "nbconvert_exporter": "python",
   "pygments_lexer": "ipython3",
   "version": "3.12.4"
  }
 },
 "nbformat": 4,
 "nbformat_minor": 5
}
